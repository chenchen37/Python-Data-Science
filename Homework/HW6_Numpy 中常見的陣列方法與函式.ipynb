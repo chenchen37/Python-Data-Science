{
 "cells": [
  {
   "cell_type": "markdown",
   "metadata": {
    "id": "lbz8VjL6jxyL"
   },
   "source": [
    "### 1. [簡答題] 請問下列這三種方法有什麼不同？\n",
    "\n",
    "```\n",
    "print(a.sum()) \n",
    "print(np.sum(a))\n",
    "print(sum(a)) \n",
    "```\n",
    "\n"
   ]
  },
  {
   "cell_type": "code",
   "execution_count": 1,
   "metadata": {},
   "outputs": [],
   "source": [
    "import numpy as np"
   ]
  },
  {
   "cell_type": "code",
   "execution_count": 2,
   "metadata": {},
   "outputs": [
    {
     "name": "stdout",
     "output_type": "stream",
     "text": [
      "15\n",
      "15\n",
      "[6 9]\n"
     ]
    }
   ],
   "source": [
    "a = np.arange(6).reshape(3, 2)\n",
    "print(a.sum())\n",
    "print(np.sum(a))\n",
    "print(sum(a))"
   ]
  },
  {
   "cell_type": "markdown",
   "metadata": {
    "id": "5QrYoyNWsvFS",
    "outputId": "e9e14d36-38ce-4ce5-edf2-3c7b129db580"
   },
   "source": [
    "a.sum() 及 np.sum(a) 為 NumPy 專屬的函式，且輸出結果相同。"
   ]
  },
  {
   "cell_type": "markdown",
   "metadata": {},
   "source": [
    "sum(a) 則為 Python 通用的函式，且其預設是從 axis = 0 的方向做加總，得到一個一維的矩陣。"
   ]
  },
  {
   "cell_type": "markdown",
   "metadata": {
    "id": "vVrjBXabjxyS"
   },
   "source": [
    "### 2. 請對一個 5x5 的隨機矩陣作正規化的操作。\n"
   ]
  },
  {
   "cell_type": "code",
   "execution_count": 3,
   "metadata": {
    "id": "e1gVI0tvsvFY",
    "outputId": "43bf676f-fd04-4edf-c062-b5fe7fe1f4bf"
   },
   "outputs": [
    {
     "name": "stdout",
     "output_type": "stream",
     "text": [
      "[[0.33867939 0.49410121 0.84117986 0.0194312  0.72443534]\n",
      " [0.5807096  0.99326321 0.34395425 0.88430503 0.40532   ]\n",
      " [0.06936468 0.52098804 0.95380905 0.72546303 0.86229962]\n",
      " [0.89197033 0.88235291 0.04373    0.00409721 0.67484148]\n",
      " [0.25800801 0.32768086 0.99334461 0.21378697 0.98653762]]\n",
      "After normalization:\n",
      "[[0.33821892 0.49533008 0.8461813  0.01550066 0.72816783]\n",
      " [0.58287986 0.99991772 0.34355111 0.88977522 0.40558387]\n",
      " [0.06597689 0.52250916 0.96003471 0.72920669 0.86753062]\n",
      " [0.89752384 0.88780188 0.04006358 0.         0.6780349 ]\n",
      " [0.25667068 0.32710083 1.         0.21196897 0.99311902]]\n"
     ]
    }
   ],
   "source": [
    "#資料的正規化(Normalization)是將原始資料的數據按比例縮放於 [0, 1] 區間中，且不改變其原本分佈。\n",
    "A = np.random.random((5, 5))\n",
    "print(A)\n",
    "\n",
    "A_normalization = (A - A.min()) / (A.max() - A.min())\n",
    "print(\"After normalization:\")\n",
    "print(A_normalization)"
   ]
  },
  {
   "cell_type": "markdown",
   "metadata": {
    "id": "Ptc3ZrNQjxyU"
   },
   "source": [
    "### 3. 請建立一個長度等於 10 的正整數向量，並且將其中的最大值改成 -1。\n"
   ]
  },
  {
   "cell_type": "code",
   "execution_count": 4,
   "metadata": {
    "id": "IoPlZnZgjxyV"
   },
   "outputs": [
    {
     "name": "stdout",
     "output_type": "stream",
     "text": [
      "[ 0.64424076  0.84298094  0.07971636 -1.          0.17451717  0.20890902\n",
      "  0.44170981  0.01190227  0.10480151  0.57678508]\n"
     ]
    }
   ],
   "source": [
    "arr = np.random.random(10)\n",
    "arr[np.argmax(arr)] = -1\n",
    "print(arr)"
   ]
  }
 ],
 "metadata": {
  "colab": {
   "name": "06 Homework_維元.ipynb",
   "provenance": []
  },
  "kernelspec": {
   "display_name": "Python 3",
   "language": "python",
   "name": "python3"
  },
  "language_info": {
   "codemirror_mode": {
    "name": "ipython",
    "version": 3
   },
   "file_extension": ".py",
   "mimetype": "text/x-python",
   "name": "python",
   "nbconvert_exporter": "python",
   "pygments_lexer": "ipython3",
   "version": "3.8.5"
  }
 },
 "nbformat": 4,
 "nbformat_minor": 1
}
