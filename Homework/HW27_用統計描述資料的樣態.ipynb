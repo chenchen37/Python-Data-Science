{
 "cells": [
  {
   "cell_type": "markdown",
   "metadata": {
    "id": "H-z4L8J371GO"
   },
   "source": [
    "## 作業:\n",
    "今天學到不同統計量之間特性，  \n",
    "試著分析男生女生身高資料，  \n",
    "試著回答下面的問題:  \n",
    "Q1:試著用今天所教的內容，如何描述這兩組資料的樣態?    \n",
    "Q2: 請問男生和女生在平均身高上誰比較高?   \n",
    "Q3:請問第二題的答案和日常生活中觀察的一致嗎? 如果不一致，你覺得原因可能為何?    "
   ]
  },
  {
   "cell_type": "code",
   "execution_count": 1,
   "metadata": {
    "id": "yz28_IgkYdBW"
   },
   "outputs": [],
   "source": [
    "import matplotlib.pyplot as plt\n",
    "import numpy as np\n",
    "import pandas as pd\n",
    "from scipy import stats\n",
    "import math\n",
    "import statistics\n",
    "import seaborn as sns"
   ]
  },
  {
   "cell_type": "code",
   "execution_count": 2,
   "metadata": {
    "id": "3NtzuWtt71GU",
    "outputId": "be21c4eb-a6c2-4674-aadd-d378bafc0428"
   },
   "outputs": [],
   "source": [
    "boys=[164, 176, 169, 169, 165, 175, 159, 151, 144, 160, 183, 165, 156, 170, 164, 173, 165, 163, 177, 171]\n",
    "girls=[169, 183, 170, 168, 182, 170, 173, 185, 151, 156, 162, 169, 162, 181, 159, 154, 167, 175, 170, 160]"
   ]
  },
  {
   "cell_type": "code",
   "execution_count": 3,
   "metadata": {
    "id": "uDM9AzrY71GW",
    "outputId": "f4e7ede3-fda9-4858-f122-af7c3b3f3ad4"
   },
   "outputs": [
    {
     "name": "stdout",
     "output_type": "stream",
     "text": [
      "Average value of boys' hieght: 165.95\n",
      "Average value of girls' hieght: 168.3\n",
      "Median value of boys' hieght: 165.0\n",
      "Median value of girls' hieght: 169.0\n",
      "Mode value of boys' hieght: 165\n",
      "Mode value of girls' hieght: 170\n",
      "Range of boys' hieght: 39\n",
      "Range of girls' hieght: 34\n",
      "Variance of boys' hieght: 84.89210526315789\n",
      "Variance of girls' hieght: 95.37894736842104\n",
      "Standard deviation of boys' hieght: 9.213691185575838\n",
      "Standard deviation of girls' hieght: 9.766214587465353\n",
      "90th percentile of boys' hieght: 176.1\n",
      "50th percentile of boys' hieght: 165.0\n",
      "20th percentile of boys' hieght: 159.8\n",
      "90th percentile of girls' hieght: 182.1\n",
      "50th percentile of girls' hieght: 169.0\n",
      "20th percentile of girls' hieght: 159.8\n",
      "Skewness of boys' hieght: -0.47132127317376954\n",
      "Skewness of girls' hieght: 0.05985321129365068\n",
      "Kurtosis of boys' hieght: 0.19395882957876331\n",
      "Kurtosis of girls' hieght: -0.8203607083948947\n"
     ]
    }
   ],
   "source": [
    "# 試著用今天所教的內容，如何描述這兩組資料的樣態\n",
    "print(\"Average value of boys' hieght:\", np.mean(boys))\n",
    "print(\"Average value of girls' hieght:\", np.mean(girls))\n",
    "\n",
    "print(\"Median value of boys' hieght:\", np.median(boys))\n",
    "print(\"Median value of girls' hieght:\", np.median(girls))\n",
    "\n",
    "print(\"Mode value of boys' hieght:\", stats.mode(boys)[0][0])\n",
    "print(\"Mode value of girls' hieght:\", stats.mode(girls)[0][0])\n",
    "\n",
    "def rangeV(data):\n",
    "    return np.max(data) - np.min(data)\n",
    "print(\"Range of boys' hieght:\", rangeV(boys))\n",
    "print(\"Range of girls' hieght:\", rangeV(girls))\n",
    "\n",
    "print(\"Variance of boys' hieght:\", np.var(boys, ddof = 1))\n",
    "print(\"Variance of girls' hieght:\", np.var(girls, ddof = 1))\n",
    "\n",
    "print(\"Standard deviation of boys' hieght:\", np.std(boys, ddof = 1))\n",
    "print(\"Standard deviation of girls' hieght:\", np.std(girls, ddof = 1))\n",
    "\n",
    "print(\"90th percentile of boys' hieght:\",np.percentile(boys, 90))\n",
    "print(\"50th percentile of boys' hieght:\",np.percentile(boys, 50))\n",
    "print(\"20th percentile of boys' hieght:\",np.percentile(boys, 20))\n",
    "\n",
    "print(\"90th percentile of girls' hieght:\",np.percentile(girls, 90))\n",
    "print(\"50th percentile of girls' hieght:\",np.percentile(girls, 50))\n",
    "print(\"20th percentile of girls' hieght:\",np.percentile(girls, 20))\n",
    "\n",
    "print(\"Skewness of boys' hieght:\", stats.skew(boys))\n",
    "print(\"Skewness of girls' hieght:\", stats.skew(girls))\n",
    "\n",
    "print(\"Kurtosis of boys' hieght:\", stats.kurtosis(boys))\n",
    "print(\"Kurtosis of girls' hieght:\", stats.kurtosis(girls))"
   ]
  },
  {
   "cell_type": "code",
   "execution_count": 4,
   "metadata": {},
   "outputs": [
    {
     "data": {
      "image/png": "[encoded data removed]",
      "text/plain": [
       "<Figure size 432x288 with 1 Axes>"
      ]
     },
     "metadata": {
      "needs_background": "light"
     },
     "output_type": "display_data"
    }
   ],
   "source": [
    "plt.hist(boys, bins = 40, alpha = 0.5)\n",
    "plt.title(\"Distribution of boys' height\")\n",
    "plt.show()"
   ]
  },
  {
   "cell_type": "code",
   "execution_count": 5,
   "metadata": {},
   "outputs": [
    {
     "data": {
      "image/png": "[encoded data removed]",
      "text/plain": [
       "<Figure size 432x288 with 1 Axes>"
      ]
     },
     "metadata": {
      "needs_background": "light"
     },
     "output_type": "display_data"
    }
   ],
   "source": [
    "plt.hist(girls, bins = 40, alpha = 0.5)\n",
    "plt.title(\"Distribution of girls' height\")\n",
    "plt.show()"
   ]
  },
  {
   "cell_type": "code",
   "execution_count": 6,
   "metadata": {
    "id": "xH_GNsC271GW",
    "outputId": "f4b4c46a-0d8b-421c-9c70-0ebf2aab0e31"
   },
   "outputs": [
    {
     "name": "stdout",
     "output_type": "stream",
     "text": [
      "Girls\n"
     ]
    }
   ],
   "source": [
    "# 請問男生和女生在平均身高上誰比較高? \n",
    "\n",
    "if np.mean(boys) > np.mean(girls):\n",
    "    print(\"Boys\")\n",
    "else:\n",
    "    print(\"Girls\")"
   ]
  },
  {
   "cell_type": "code",
   "execution_count": 7,
   "metadata": {
    "id": "xAzZU0Dv71GX",
    "outputId": "e2017c09-70fc-41ab-99c0-9d41fe21629d"
   },
   "outputs": [],
   "source": [
    "# 請問第二題的答案和日常生活中觀察的一致嗎? 如果不一致，你覺得原因可能為何? "
   ]
  },
  {
   "cell_type": "markdown",
   "metadata": {},
   "source": [
    "此統計結果與日常生活觀察較不同，不過其真實性仍需取決所抽取的樣本是否能準確代表整個群體。"
   ]
  },
  {
   "cell_type": "markdown",
   "metadata": {},
   "source": [
    "因為就統計學的觀點來說，有許多因素皆會影響統計結果，其一便是抽取的樣本是否能代表母體。"
   ]
  }
 ],
 "metadata": {
  "colab": {
   "collapsed_sections": [],
   "name": "作業.ipynb",
   "provenance": []
  },
  "kernelspec": {
   "display_name": "Python 3",
   "language": "python",
   "name": "python3"
  },
  "language_info": {
   "codemirror_mode": {
    "name": "ipython",
    "version": 3
   },
   "file_extension": ".py",
   "mimetype": "text/x-python",
   "name": "python",
   "nbconvert_exporter": "python",
   "pygments_lexer": "ipython3",
   "version": "3.8.5"
  }
 },
 "nbformat": 4,
 "nbformat_minor": 1
}
